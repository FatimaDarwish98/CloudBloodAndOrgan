{
 "cells": [
  {
   "cell_type": "code",
   "execution_count": 6,
   "metadata": {},
   "outputs": [],
   "source": [
    "import os\n",
    "\n",
    "filenames=[\"Individual\",\"DonationEntity\",\"Test\",\"CompletedDonationLog\",\"Member\",\"EligibilityToDonate\"]\n",
    "for f in filenames:\n",
    "\n",
    "    file=open(f+\"Repository.java\",'w')\n",
    "    file.write(\"\"\" package com.bloodorganmanagementsystem.app.repositories;\n",
    "\n",
    "import com.bloodorganmanagementsystem.app.entities.\"\"\"+f+\"\"\";\n",
    "import org.springframework.data.repository.CrudRepository;\n",
    "import org.springframework.stereotype.Repository;\n",
    "\n",
    "@Repository\n",
    "public interface \"\"\"+f+\"\"\"Repository extends CrudRepository<\"\"\"+f+\"\"\", Integer> {\n",
    "\n",
    "}\"\"\"\n",
    "    )\n",
    "    \n",
    "    file.close()\n",
    "    "
   ]
  },
  {
   "cell_type": "code",
   "execution_count": null,
   "metadata": {},
   "outputs": [],
   "source": []
  }
 ],
 "metadata": {
  "kernelspec": {
   "display_name": "Python 3",
   "language": "python",
   "name": "python3"
  },
  "language_info": {
   "codemirror_mode": {
    "name": "ipython",
    "version": 3
   },
   "file_extension": ".py",
   "mimetype": "text/x-python",
   "name": "python",
   "nbconvert_exporter": "python",
   "pygments_lexer": "ipython3",
   "version": "3.7.4"
  }
 },
 "nbformat": 4,
 "nbformat_minor": 2
}
